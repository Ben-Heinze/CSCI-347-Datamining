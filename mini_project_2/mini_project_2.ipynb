{
 "cells": [
  {
   "cell_type": "markdown",
   "metadata": {},
   "source": [
    "# Mini Project 2\n",
    "Ben Heinze\n",
    "Braxton McCormack\n",
    "Michael Hagin"
   ]
  },
  {
   "cell_type": "code",
   "execution_count": 1,
   "metadata": {},
   "outputs": [
    {
     "name": "stdout",
     "output_type": "stream",
     "text": [
      "Graph with 475 nodes and 10222 edges\n",
      "23\n",
      "367\n"
     ]
    }
   ],
   "source": [
    "import pandas as pd\n",
    "import networkx as nx\n",
    "\n",
    "file_path = 'datasets/congress.edgelist'\n",
    "\n",
    "G = nx.read_edgelist(file_path, create_using=nx.Graph())\n",
    "\n",
    "'''\n",
    "Part 2 implies that our graph should be undirected, unweighted, with no pararell edges or loops.\n",
    "According to google using networkx graph objects means the pararell edges won't matter so the below code removes loops (if there is any)\n",
    "'''\n",
    "loops = list(nx.selfloop_edges(G))\n",
    "G.remove_edges_from(loops)\n",
    "\n",
    "num_nodes = G.number_of_nodes()\n",
    "num_edges = G.number_of_edges()\n",
    "\n",
    "print(f\"Graph with {num_nodes} nodes and {num_edges} edges\")\n",
    "'''\n",
    "I just wanted to mess around and see how I would go about making methods that interact with the network x. This\n",
    "is the first method from part 2 I think you can write your own I just wanted to see if it was possible. The one directly after this\n",
    "one though looks more complex.\n",
    "'''\n",
    "def number_of_vertices(G, vertex_index):\n",
    "    return len(list(G.neighbors(vertex_index)))\n",
    "\n",
    "example_vertex = '99' #another reason I liked this dataset is the nodes are just names of things (has to be lowercase)\n",
    "\n",
    "# Use the function to find the degree of the specified vertex\n",
    "degree_of_vertex = number_of_vertices(G, example_vertex)\n",
    "\n",
    "print(degree_of_vertex)\n",
    "\n",
    "betweenness_centrality = nx.betweenness_centrality(G)\n",
    "node_with_highest_betweenness = max(betweenness_centrality, key=betweenness_centrality.get)\n",
    "print(node_with_highest_betweenness)"
   ]
  },
  {
   "cell_type": "code",
   "execution_count": 2,
   "metadata": {},
   "outputs": [],
   "source": [
    "def number_of_vertices(edges):\n",
    "    return \n",
    "\n",
    "def degree_of_vertex(edges, vertex_index):\n",
    "    return\n",
    "\n",
    "def clustering_coefficient_of_vertex(edges, vertex_index):\n",
    "    return\n",
    "\n",
    "def betweenness_centrality_of_vertex(edges, vertex_index):\n",
    "    return\n",
    "\n",
    "def average_shortest_path_length(edges):\n",
    "    return\n",
    "\n",
    "def adjacency_matrix(edges):\n",
    "    return\n",
    "\n",
    "def eigenvector_centrality(adjacency_matrix):\n",
    "    return"
   ]
  }
 ],
 "metadata": {
  "kernelspec": {
   "display_name": "Python 3 (ipykernel)",
   "language": "python",
   "name": "python3"
  },
  "language_info": {
   "codemirror_mode": {
    "name": "ipython",
    "version": 3
   },
   "file_extension": ".py",
   "mimetype": "text/x-python",
   "name": "python",
   "nbconvert_exporter": "python",
   "pygments_lexer": "ipython3",
   "version": "3.11.8"
  }
 },
 "nbformat": 4,
 "nbformat_minor": 4
}
