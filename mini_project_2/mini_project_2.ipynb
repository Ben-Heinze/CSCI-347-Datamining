{
 "cells": [
  {
   "cell_type": "markdown",
   "metadata": {},
   "source": [
    "# Mini Project 2\n",
    "Ben Heinze\n",
    "Braxton McCormack\n",
    "Michael Hagin"
   ]
  },
  {
   "cell_type": "code",
   "execution_count": null,
   "metadata": {},
   "outputs": [],
   "source": [
    "def number_of_vertices(edges):\n",
    "    return \n",
    "\n",
    "def degree_of_vertex(edges, vertex_index):\n",
    "    return\n",
    "\n",
    "def clustering_coefficient_of_vertex(edges, vertex_index):\n",
    "    return\n",
    "\n",
    "def betweenness_centrality_of_vertex(edges, vertex_index):\n",
    "    return\n",
    "\n",
    "def average_shortest_path_length(edges):\n",
    "    return\n",
    "\n",
    "def adjacency_matrix(edges):\n",
    "    return\n",
    "\n",
    "def eigenvector_centrality(adjacency_matrix):\n",
    "    return"
   ]
  }
 ],
 "metadata": {
  "language_info": {
   "name": "python"
  }
 },
 "nbformat": 4,
 "nbformat_minor": 2
}
