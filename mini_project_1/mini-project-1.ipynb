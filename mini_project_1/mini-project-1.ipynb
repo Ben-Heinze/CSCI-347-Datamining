{
 "cells": [
  {
   "cell_type": "markdown",
   "id": "8ef75d39-7ee9-4641-b644-a027f326f853",
   "metadata": {},
   "source": [
    "# **Mini Project 1 : Exploratory Data Analysis**\n",
    "Ben Heinze, Braxton McCormack, Michael Hagir \\\n",
    "16 February 2024 \\\n",
    "CSCI 347 - Datamining"
   ]
  },
  {
   "cell_type": "markdown",
   "id": "cd726812-236d-4316-970b-4fc3d32b1a06",
   "metadata": {},
   "source": [
    "---"
   ]
  },
  {
   "cell_type": "markdown",
   "id": "1a014007-f414-40c4-aeaa-56e5b334fc35",
   "metadata": {},
   "source": [
    "### Helpful Links\n",
    "[Dataset Archives (US Irvine Machine Learning Repository)](https://archive.ics.uci.edu/)"
   ]
  },
  {
   "cell_type": "markdown",
   "id": "fd2dedd4-7bb4-479a-9be9-b3473687986c",
   "metadata": {},
   "source": [
    "## **Part 1 - Introduction**\n"
   ]
  },
  {
   "cell_type": "markdown",
   "id": "74b88c29-f0b3-4662-ad0f-bc1984423b96",
   "metadata": {},
   "source": [
    "In a well-written paragraph, answer the following questions about the data:\n",
    "### Scoring\n",
    "[4 points] What was the data used for?\n",
    "\n",
    "[2 points] Who (or what organization) uploaded the data?\n",
    "\n",
    "[5 points] How many attributes and how many entities are represented in the data?\n",
    "* number of numerical attributes:\n",
    "* number of categorical attributes:\n",
    "    * Would you suggest that each categorical attribute be label-encoded or one-hot-encoded and why?\n",
    "\n",
    "[4 points] Are there missing values in the data? If so, what proportion of the data is missing\n",
    "overall? What proportion of data is missing per attribute (you may use a plot or table to\n",
    "summarize this information)?\n",
    "\n",
    "[7 points] Why is this data set interesting to you?\n",
    "\n",
    "[6 points] Of the attributes used to describe this data, which do you think are the most\n",
    "descriptive of the data and why (before doing any data analysis) ?"
   ]
  },
  {
   "cell_type": "markdown",
   "id": "125d9db9-e5bf-46f1-a83c-e2f54aabdbdd",
   "metadata": {},
   "source": [
    "---"
   ]
  },
  {
   "cell_type": "markdown",
   "id": "64654f81-8519-4e6b-b5b0-69a6d9f723a7",
   "metadata": {},
   "source": [
    "## **Part 2 - Data Analysis Code**\n",
    "Use Python to write the following functions, without using any functions with the same purpose\n",
    "in sklearn, pandas, numpy, or any other library (though you may want to use these libraries to\n",
    "check your answers)\n",
    "### Scoring\n",
    "[5 points] A function that will compute the mean of a numerical, multidimensional data set\n",
    "input as a 2-dimensional numpy array\n",
    "\n",
    "[5 points] A function that will compute the sample covariance between two attributes that are\n",
    "input as one-dimensional numpy vectors\n",
    "\n",
    "[5 points] A function that will compute the correlation between two attributes that are input as\n",
    "two numpy vectors.\n",
    "\n",
    "[5 points] A function that will normalize the attributes in a two-dimensional numpy array using\n",
    "range normalization.\n",
    "\n",
    "[5 points] A function that will normalize the attributes in a two-dimensional numpy array using\n",
    "standard normalization.\n",
    "\n",
    "[5 points] A function that will compute the covariance matrix of a data set.\n",
    "\n",
    "[5 points] A function that will label-encode a two-dimensional categorical data array that is\n",
    "passed in as input.\n"
   ]
  },
  {
   "cell_type": "markdown",
   "id": "2a2cdadf-934a-44e1-b6f9-1f617df73874",
   "metadata": {},
   "source": [
    "---"
   ]
  },
  {
   "cell_type": "markdown",
   "id": "f4b736c8-c2ca-416e-9865-f7d14ca2cadc",
   "metadata": {},
   "source": [
    "## **Part 3 - Data Analysis**"
   ]
  },
  {
   "cell_type": "markdown",
   "id": "7cbe5037-3c5b-4879-88f0-b323d62bad14",
   "metadata": {},
   "source": [
    "Use your code from Part 2 to answer the following questions in a well-written paragraph, and create the following plots from the numerical portion of the data: \n",
    "\n",
    "Use your functions to compute the multi-variate mean and covariance matrix of the numerical portion of your data set.\n",
    "\n",
    "• __Before answering the questions:__ \\\n",
    "• [5 points] Convert all categorical attributes using label encoding or one-hot-encoding \\\n",
    "• [2 points] If your data has missing values, fill in those values with the attribute mean.\n",
    "\n",
    "### Scoring"
   ]
  },
  {
   "cell_type": "markdown",
   "id": "6d8ffbb8-cd91-4ea5-8473-d98a8e9bbb9f",
   "metadata": {},
   "source": [
    "[2 points] What is the multivariate mean of the numerical data matrix (where categorical data\n",
    "have been converted to numerical values)?\n",
    "\n",
    "[4 points] What is the covariance matrix of the numerical data matrix (where categorical data\n",
    "have been converted to numerical values)?\n",
    "\n",
    "[5 points] Choose 5 pairs of attributes that you think could be related. Create scatter plots of\n",
    "all 5 pairs and include these in your report, along with a description and analysis that\n",
    "summarizes why these pairs of attributes might be related, and how the scatter plots do or\n",
    "do not support this intuition.\n",
    "\n",
    "[3 points] Which range-normalized numerical attributes have the greatest sample covariance?\n",
    "What is their sample covariance? Create a scatter plot of these range-normalized attributes.\n",
    "\n",
    "[3 points] Which Z-score-normalized numerical attributes have the greatest correlation? What\n",
    "is their correlation? Create a scatter plot of these Z-score-normalized attributes.\n",
    "\n",
    "[3 points] Which Z-score-normalized numerical attributes have the smallest correlation? What\n",
    "is their correlation? Create a scatter plot of these Z-score-normalized attributes.\n",
    "\n",
    "[3 points] How many pairs of features have correlation greater than or equal to 0.5?\n",
    "\n",
    "[3 points] How many pairs of features have negative sample covariance?\n",
    "\n",
    "[2 points] What is the total variance of the data?\n",
    "\n",
    "[2 points] What is the total variance of the data, restricted to the five features that have the\n",
    "greatest sample variance?\n"
   ]
  },
  {
   "cell_type": "markdown",
   "id": "b7fcea3f-a5c4-4d8c-a7b9-dd5da2851d79",
   "metadata": {},
   "source": [
    "---\n",
    "## Make sure the following criteria is filled:\n"
   ]
  },
  {
   "cell_type": "markdown",
   "id": "52a4000f-5ed5-4105-b391-c318089522e4",
   "metadata": {},
   "source": [
    "- Your submission must include the complete written report and all associated code.\n",
    "Ensure that your code is well-commented to facilitate understanding of the methods used\n",
    "to generate your results.\n",
    "- The full names of all members should be included in the first page of the report as well\n",
    "as name of the file (it can include only last names).\n",
    "- The team size must be between 2-4 members.\n",
    "- Each team is required to submit their report and code only once per team, and the same\n",
    "team member should submit on both D2L and GradeScope platforms. Multiple submission\n",
    "by same person is allowed.\n",
    "- The submission on GradeScope will be the primary document for grading purposes.\n",
    "- To clarify individual contributions, please prefix your initials before each question (or part)\n",
    "to indicate who worked on each problem.\n",
    "- Please be aware of the following points, as failure to comply will result in a deduction of\n",
    "points:\n",
    "    * teams with fewer than 2 or more than 4 members.\n",
    "    * Missing partners name on either the report or file name\n",
    "    * Multiple submissions by the same team, even if identical.\n",
    "    * Different versions of the report submitted by various team members\n",
    "    * If your report does not include the necessary code, or if the code provided is not appropriately attached as a supplementary document or as inline code following each question.\n",
    "    * Reports that are disorganized, unreadable, or contain excessive unrelated code\n",
    "Missing initials for each question."
   ]
  },
  {
   "cell_type": "code",
   "execution_count": null,
   "id": "c58f2d0d-4777-473d-9ecb-fad7c2495e0c",
   "metadata": {},
   "outputs": [],
   "source": []
  }
 ],
 "metadata": {
  "kernelspec": {
   "display_name": "Python 3 (ipykernel)",
   "language": "python",
   "name": "python3"
  },
  "language_info": {
   "codemirror_mode": {
    "name": "ipython",
    "version": 3
   },
   "file_extension": ".py",
   "mimetype": "text/x-python",
   "name": "python",
   "nbconvert_exporter": "python",
   "pygments_lexer": "ipython3",
   "version": "3.11.8"
  }
 },
 "nbformat": 4,
 "nbformat_minor": 5
}
